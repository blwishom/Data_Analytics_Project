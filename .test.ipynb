{
 "cells": [
  {
   "cell_type": "code",
   "execution_count": null,
   "metadata": {},
   "outputs": [],
   "source": [
    "# mean = vg.NA_Sales.mean()\n",
    "# colors = np.where(vg[\"NA_Sales\"] > mean, \"chocolate\", \"teal\")\n",
    "\n",
    "# plt.figure(figsize = (20,10))\n",
    "# plt.bar(vg.Developer, vg.NA_Sales, color = colors)\n",
    "# plt.xlabel('State')\n",
    "# plt.ylabel('Insurance Premium')\n",
    "# plt.title('Insurance Premium by State')\n",
    "# plt.xticks(rotation = 15)\n",
    "# plt.axhline(y=mean, color = 'red', linewidth = 2.5)"
   ]
  },
  {
   "cell_type": "code",
   "execution_count": null,
   "metadata": {},
   "outputs": [],
   "source": [
    "# ps4 = vg.loc[(vg[\"Platform\"] == \"PS4\")].copy()\n",
    "\n",
    "\n",
    "# #specify by size\n",
    "# plt.figure(figsize=(20, 8))\n",
    "\n",
    "# #calculate the sum of 'Global_Sales' for each 'Publisher'\n",
    "# #Use .nlargest(10) method to retrieve the top 10 publishers with the highest global sales\n",
    "# top_platforms = vg.groupby('Platform')['NA_Sales'].sum().nlarges(5)\n",
    "\n",
    "# #Use seaborn's barplot function to generate vertical bars for each publisher\n",
    "# sns.barplot(x = top_platforms.index, y = top_platforms.values)\n",
    "# plt.title('Top Video Game Platforms by North America Sales')\n",
    "# plt.xlabel('Platform')\n",
    "# plt.ylabel('NA Sales')\n",
    "# plt.show()"
   ]
  },
  {
   "cell_type": "code",
   "execution_count": null,
   "metadata": {},
   "outputs": [],
   "source": [
    "# Sales by Developer - count unique developers first\n",
    "# vg_developer = vg[[\"Developer\", \"Global_Sales\"]]\n",
    "# vg_developer"
   ]
  }
 ],
 "metadata": {
  "language_info": {
   "name": "python"
  },
  "orig_nbformat": 4
 },
 "nbformat": 4,
 "nbformat_minor": 2
}
