{
 "cells": [
  {
   "cell_type": "code",
   "execution_count": null,
   "metadata": {},
   "outputs": [],
   "source": [
    "import numpy as np\n",
    "import pandas as pd\n",
    "import seaborn as sns\n",
    "import matplotlib.pyplot as plt"
   ]
  },
  {
   "attachments": {},
   "cell_type": "markdown",
   "metadata": {},
   "source": [
    "*Sadie*"
   ]
  },
  {
   "cell_type": "code",
   "execution_count": null,
   "metadata": {},
   "outputs": [],
   "source": [
    "sales_publisher = video_games.loc[:, [\"Global_Sales\", \"Publisher\"]]\n",
    "sales_publisher.describe()"
   ]
  },
  {
   "cell_type": "code",
   "execution_count": null,
   "metadata": {},
   "outputs": [],
   "source": [
    "#specify by size\n",
    "plt.figure(figsize=(25, 8))\n",
    "\n",
    "#calculate the sum of 'Global_Sales' for each 'Publisher'\n",
    "#Use .nlargest(10) method to retrieve the top 10 publishers with the highest global sales\n",
    "publisher_sales = video_games.groupby('Publisher')['Global_Sales'].sum().nlargest(10)\n",
    "\n",
    "#Use seaborn's barplot function to generate vertical bars for each publisher\n",
    "sns.barplot(x = publisher_sales.index, y = publisher_sales.values)\n",
    "plt.title('Top 10 Publishers by Global Sales')\n",
    "plt.xlabel('Publisher')\n",
    "plt.ylabel('Global Sales')\n",
    "plt.show()\n",
    "\n",
    "top_publishers = video_games[video_games['Publisher'].isin(publisher_sales.index)]\n",
    "\n",
    "min_global_sales = top_publishers['Global_Sales'].min()\n",
    "max_global_sales = top_publishers['Global_Sales'].max()\n",
    "\n",
    "print('Minimum Global Sales:', min_global_sales)\n",
    "print('Maximum Global Sales:', max_global_sales)\n",
    "\n",
    "mean_sales = top_publishers['Global_Sales'].mean()\n",
    "median_sales = top_publishers['Global_Sales'].median()\n",
    "range_sales = top_publishers['Global_Sales'].max() - top_publishers['Global_Sales'].min()\n",
    "\n",
    "print(\"Mean: \", mean_sales)\n",
    "print(\"Median: \", median_sales)\n",
    "print(\"Range: \", range_sales)"
   ]
  },
  {
   "attachments": {},
   "cell_type": "markdown",
   "metadata": {},
   "source": [
    "*Blair*"
   ]
  },
  {
   "cell_type": "code",
   "execution_count": null,
   "metadata": {},
   "outputs": [],
   "source": [
    "gcs = pd.DataFrame ({\n",
    "    'Genre': vgsales['Genre'],\n",
    "    'North America': vgsales['NA_Sales'],\n",
    "    'Europe': vgsales['EU_Sales'],\n",
    "    'Japan': vgsales['JP_Sales']\n",
    "})\n",
    "\n",
    "gcs"
   ]
  },
  {
   "cell_type": "code",
   "execution_count": null,
   "metadata": {},
   "outputs": [],
   "source": [
    "'''\n",
    "This kernal specifies the unique categories for genre \n",
    "within the Video Game Sales Database.\n",
    "'''\n",
    "\n",
    "genre = gcs['Genre'].unique()\n",
    "genre"
   ]
  },
  {
   "cell_type": "code",
   "execution_count": null,
   "metadata": {},
   "outputs": [],
   "source": [
    "'''\n",
    "This kernal groups the total sales of each country\n",
    "by the genre and combines the results into\n",
    "one dataframe.\n",
    "'''\n",
    "naSales = pd.DataFrame(gcs.groupby('Genre')['North America'].sum())\n",
    "euSales = pd.DataFrame(gcs.groupby('Genre')['Europe'].sum())\n",
    "jpSales = pd.DataFrame(gcs.groupby('Genre')['Japan'].sum())\n",
    "genreSales = pd.concat([naSales, euSales, jpSales], axis=1)\n",
    "# genreSales = pd.concat([naSales, euSales, jpSales], axis=0) # example of why the axis is important/necessary\n",
    "\n",
    "genreSales"
   ]
  },
  {
   "cell_type": "code",
   "execution_count": null,
   "metadata": {},
   "outputs": [],
   "source": [
    "'''\n",
    "This kernal exhibits the results of the\n",
    "previous kernal in a KDE plot to display the \n",
    "sales of each country by genre.\n",
    "'''\n",
    "sns.kdeplot(genreSales, multiple='stack')\n",
    "plt.xlim(-200, 800)\n",
    "\n",
    "plt.show()"
   ]
  },
  {
   "cell_type": "code",
   "execution_count": null,
   "metadata": {},
   "outputs": [],
   "source": [
    "# SALES RANGE FOR EACH COUNTRY\n",
    "\n",
    "'''\n",
    "This kernal calculates the range of sales for each country.\n",
    "'''\n",
    "\n",
    "# genreSales.max()\n",
    "# North America    503.47\n",
    "# Europe           316.88\n",
    "# Japan            118.62\n",
    "\n",
    "# genreSales.min()\n",
    "# North America    25.98\n",
    "# Europe           19.62\n",
    "# Japan             4.30\n",
    "\n",
    "gcsRange = genreSales.max() - genreSales.min()\n",
    "gcsRange\n",
    "gcsRange.plot(kind='barh')"
   ]
  },
  {
   "cell_type": "code",
   "execution_count": null,
   "metadata": {},
   "outputs": [],
   "source": [
    "naV = statistics.variance(gcs['North America'])\n",
    "eV = statistics.variance(gcs['Europe'])\n",
    "jV = statistics.variance(gcs['Japan'])\n",
    "\n",
    "gcsVariance = [naV, eV, jV]\n",
    "gcsVariance"
   ]
  },
  {
   "cell_type": "code",
   "execution_count": null,
   "metadata": {},
   "outputs": [],
   "source": [
    "'''\n",
    "This kernal exhibits the results of the\n",
    "previous kernal in a scatter plot to display the \n",
    "variance of sales for each country by genre.\n",
    "'''\n",
    "\n",
    "markerSize= 120\n",
    "axes = plt.axes()\n",
    "plt.scatter(x=['North America', 'Europe', 'Japan'], y=gcsVariance,color=('royalblue', 'gold', 'red'), edgecolor='white', marker='D', s=markerSize)\n",
    "axes.set_facecolor('black')"
   ]
  },
  {
   "cell_type": "code",
   "execution_count": null,
   "metadata": {},
   "outputs": [],
   "source": [
    "sns.histplot(genreSales, multiple='stack')"
   ]
  },
  {
   "cell_type": "code",
   "execution_count": null,
   "metadata": {},
   "outputs": [],
   "source": [
    "sns.displot(genreSales)"
   ]
  },
  {
   "cell_type": "code",
   "execution_count": null,
   "metadata": {},
   "outputs": [],
   "source": [
    "gcsMean = genreSales.mean()\n",
    "sns.violinplot(data=genreSales)"
   ]
  },
  {
   "attachments": {},
   "cell_type": "markdown",
   "metadata": {},
   "source": [
    "*Tangi*"
   ]
  }
 ],
 "metadata": {
  "kernelspec": {
   "display_name": "Python 3",
   "language": "python",
   "name": "python3"
  },
  "language_info": {
   "codemirror_mode": {
    "name": "ipython",
    "version": 3
   },
   "file_extension": ".py",
   "mimetype": "text/x-python",
   "name": "python",
   "nbconvert_exporter": "python",
   "pygments_lexer": "ipython3",
   "version": "3.9.4"
  },
  "orig_nbformat": 4
 },
 "nbformat": 4,
 "nbformat_minor": 2
}
