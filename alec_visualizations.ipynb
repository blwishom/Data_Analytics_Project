{
 "cells": [
  {
   "cell_type": "code",
   "execution_count": null,
   "metadata": {},
   "outputs": [],
   "source": [
    "import numpy as np\n",
    "import pandas as pd\n",
    "import seaborn as sns\n",
    "import matplotlib.pyplot as plt"
   ]
  },
  {
   "cell_type": "code",
   "execution_count": null,
   "metadata": {},
   "outputs": [],
   "source": [
    "# load data from a CSV file\n",
    "df = pd.read_csv('VGSales.csv')\n",
    "\n",
    "# convert User_Score to be out of 100\n",
    "df['User_Score'] = df['User_Score'] * 10\n",
    "\n",
    "# print the minimum and maximum values of both columns\n",
    "print(f\"Critic_Score: Min = {df['Critic_Score'].min()}, Max= {df['Critic_Score'].max()}\")\n",
    "print(f\"User_Score: Min = {df['User_Score'].min()}, Max= {df['User_Score'].max()}\")\n",
    "\n",
    "# create a boxplot\n",
    "box = df[['Critic_Score', 'User_Score']].plot(kind='box')\n",
    "\n",
    "# add median and mean lines\n",
    "#box.axhline(df['Critic_Score'].median(), color='r', linestyle='--', alpha=0.3)\n",
    "#box.axhline(df['User_Score'].median(), color='g', linestyle='--', alpha=0.3)\n",
    "\n",
    "#box.axhline(df['Critic_Score'].mean(), color='b', linestyle='-', alpha=0.3)\n",
    "#box.axhline(df['User_Score'].mean(), color='m', linestyle='-', alpha=0.3)\n",
    "\n",
    "# set the y-axis limits\n",
    "box.set_ylim(0, 100)\n",
    "\n",
    "# set the labels\n",
    "plt.title('Comparison of Critic and User Scores')\n",
    "plt.ylabel('Score')\n",
    "\n",
    "# print median and mode values\n",
    "print(f\"Critic_Score: Mean = {df['Critic_Score'].mean()}, Median = {df['Critic_Score'].median()}\")\n",
    "print(f\"User_Score: Mean = {df['User_Score'].mean()}, Median = {df['User_Score'].median()}\")\n",
    "print(f\"Average amount of critics: {df['Critic_Count'].mean()}\")\n",
    "print(f\"Average amount of users: {df['User_Count'].mean()}\")\n",
    "# show the plot\n",
    "plt.show()"
   ]
  },
  {
   "cell_type": "markdown",
   "metadata": {},
   "source": [
    "The user and critic scores are very similar, the critics had a range in values of 29 - 98 while the users had a range of 30 - 96. The mean and median of the user scores were slightly higher than the critics where the users had a mean of about 73 and the critics had a mean of about 70, and a user median of 75 vs. the critics 72. The largest difference these groups had were the average amount of people scoring per game, the critics averaged 28 inputs while the users on average heard from 108 seperate people."
   ]
  },
  {
   "cell_type": "code",
   "execution_count": null,
   "metadata": {},
   "outputs": [],
   "source": [
    "# create a scatter plot\n",
    "plt.scatter(df['Critic_Score'], df['User_Score'], s = 3)\n",
    "\n",
    "# set the title and axis labels\n",
    "plt.title('Critic Scores vs. User Scores')\n",
    "plt.xlabel('Critic Score (out of 100)')\n",
    "plt.ylabel('User Score (out of 100)')\n",
    "\n",
    "# calculate the correlation coefficient\n",
    "corr = df['Critic_Score'].corr(df['User_Score'])\n",
    "\n",
    "# print the correlation coefficient\n",
    "print(f\"The correlation coefficient between Critic Score and User Score is {corr:.2f}\")\n",
    "\n",
    "# show the plot\n",
    "plt.show()"
   ]
  },
  {
   "attachments": {},
   "cell_type": "markdown",
   "metadata": {},
   "source": [
    "The critics' and users' score have a moderate positive correlation of .54. So users and critics tend to vote similarly but there are many situations where that is not the case as we can see on the graph. "
   ]
  }
 ],
 "metadata": {
  "language_info": {
   "name": "python"
  },
  "orig_nbformat": 4
 },
 "nbformat": 4,
 "nbformat_minor": 2
}
